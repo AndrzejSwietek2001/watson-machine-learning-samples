{
 "cells": [
  {
   "cell_type": "markdown",
   "metadata": {},
   "source": [
    "# Use PyTorch to recognize hand-written digits with Watson Machine Learning REST API"
   ]
  },
  {
   "cell_type": "markdown",
   "metadata": {},
   "source": [
    "This notebook contains steps and code to demonstrate support of PyTorch Deep Learning experiments in Watson Machine Learning Service. It introduces commands for getting data, training experiments, persisting pipelines, publishing models, deploying models and scoring.\n",
    "\n",
    "Some familiarity with cURL is helpful. This notebook uses cURL examples.\n",
    "\n",
    "\n",
    "## Learning goals\n",
    "\n",
    "The learning goals of this notebook are:\n",
    "\n",
    "-  Working with Watson Machine Learning experiments to train Deep Learning models.\n",
    "-  Downloading computed models to local storage.\n",
    "-  Online deployment and scoring of trained model.\n",
    "\n",
    "\n",
    "## Contents\n",
    "\n",
    "This notebook contains the following parts:\n",
    "\n",
    "1.\t[Setup](#setup)   \n",
    "2.  [Model definition](#model_definition)  \n",
    "3.\t[Experiment Run](#run)  \n",
    "4.\t[Historical runs](#runs)  \n",
    "5.\t[Deploy and Score](#deploy_and_score)  \n",
    "6.\t[Cleaning](#cleaning)   \n",
    "7.\t[Summary and next steps](#summary)"
   ]
  },
  {
   "cell_type": "markdown",
   "metadata": {},
   "source": [
    "<a id=\"setup\"></a>\n",
    "## 1. Set up the environment\n",
    "\n",
    "Before you use the sample code in this notebook, you must perform the following setup tasks:\n",
    "\n",
    "-  Contact with your Cloud Pack for Data administrator and ask him for your account credentials"
   ]
  },
  {
   "cell_type": "markdown",
   "metadata": {},
   "source": [
    "### Connection to WML\n",
    "\n",
    "Authenticate the Watson Machine Learning service on IBM Cloud Pack for Data. You need to provide platform `url`, your `username` and `password`."
   ]
  },
  {
   "cell_type": "code",
   "execution_count": null,
   "metadata": {},
   "outputs": [],
   "source": [
    "%env USERNAME=\n",
    "%env PASSWORD=\n",
    "%env DATAPLATFORM_URL=\n",
    "\n",
    "%env SPACE_ID="
   ]
  },
  {
   "cell_type": "markdown",
   "metadata": {},
   "source": [
    "<a id=\"wml_token\"></a>\n",
    "### Getting WML authorization token for further cURL calls"
   ]
  },
  {
   "cell_type": "markdown",
   "metadata": {},
   "source": [
    "<a href=\"https://cloud.ibm.com/docs/cloud-object-storage?topic=cloud-object-storage-curl#curl-token\" target=\"_blank\" rel=\"noopener no referrer\">Example of cURL call to get WML token</a>"
   ]
  },
  {
   "cell_type": "code",
   "execution_count": null,
   "metadata": {},
   "outputs": [],
   "source": [
    "%%bash --out token\n",
    "\n",
    "curl -sk -X GET \\\n",
    "    --user $USERNAME:$PASSWORD \\\n",
    "    --header \"Accept: application/json\" \\\n",
    "    \"$DATAPLATFORM_URL/v1/preauth/validateAuth\" \\\n",
    "    | cut -d '\"' -f 44"
   ]
  },
  {
   "cell_type": "code",
   "execution_count": null,
   "metadata": {},
   "outputs": [],
   "source": [
    "%env TOKEN=$token "
   ]
  },
  {
   "cell_type": "markdown",
   "metadata": {},
   "source": [
    "<a id=\"space_creation\"></a>\n",
    "### Space creation\n",
    "**Tip:** If you do not have `space` already created, please convert below three cells to `code` and run them.\n",
    "\n",
    "First of all, you need to create a `space` that will be used in all of your further cURL calls. \n",
    "If you do not have `space` already created, below is the cURL call to create one."
   ]
  },
  {
   "cell_type": "markdown",
   "metadata": {},
   "source": [
    "<a href=\"https://cpd-spaces-api.eu-gb.cf.appdomain.cloud/#/Spaces/spaces_create\" \n",
    "target=\"_blank\" rel=\"noopener no referrer\">Space creation</a>"
   ]
  },
  {
   "cell_type": "raw",
   "metadata": {},
   "source": [
    "%%bash --out space_id\n",
    "\n",
    "curl -sk -X POST \\\n",
    "    --header \"Authorization: Bearer $TOKEN\" \\\n",
    "    --header \"Content-Type: application/json\" \\\n",
    "    --header \"Accept: application/json\" \\\n",
    "    --data '{\"name\": \"curl_DL\"}' \\\n",
    "    \"$DATAPLATFORM_URL/v2/spaces\" \\\n",
    "     | grep '\"id\": ' | awk -F '\"' '{ print $4 }'"
   ]
  },
  {
   "cell_type": "raw",
   "metadata": {},
   "source": [
    "space_id = space_id.split('\\n')[1]\n",
    "%env SPACE_ID=$space_id"
   ]
  },
  {
   "cell_type": "markdown",
   "metadata": {},
   "source": [
    "Space creation is asynchronous. This means that you need to check space creation status after creation call.\n",
    "Make sure that your newly created space is `active`."
   ]
  },
  {
   "cell_type": "markdown",
   "metadata": {},
   "source": [
    "<a href=\"https://cpd-spaces-api.eu-gb.cf.appdomain.cloud/#/Spaces/spaces_get\" \n",
    "target=\"_blank\" rel=\"noopener no referrer\">Get space information</a>"
   ]
  },
  {
   "cell_type": "raw",
   "metadata": {},
   "source": [
    "%%bash\n",
    "\n",
    "curl -sk -X GET \\\n",
    "    --header \"Authorization: Bearer $TOKEN\" \\\n",
    "    --header \"Content-Type: application/json\" \\\n",
    "    --header \"Accept: application/json\" \\\n",
    "    \"$DATAPLATFORM_URL/v2/spaces/$SPACE_ID\""
   ]
  },
  {
   "cell_type": "markdown",
   "metadata": {},
   "source": [
    "<a id=\"model_definition\"></a>\n",
    "## 2. Model definition \n",
    "\n",
    "This section provides samples about how to store model definition via cURL calls."
   ]
  },
  {
   "cell_type": "markdown",
   "metadata": {},
   "source": [
    "<a href=\"https://watson-ml-v4-api.mybluemix.net/wml-restapi-cloud.html#/Model%20Definitions/model_definitions_create\" \n",
    "target=\"_blank\" rel=\"noopener no referrer\">Store a model definition for Deep Learning experiment</a>"
   ]
  },
  {
   "cell_type": "code",
   "execution_count": 68,
   "metadata": {},
   "outputs": [],
   "source": [
    "%%bash --out model_definition_payload\n",
    "\n",
    "MODEL_DEFINITION_PAYLOAD='{\"name\": \"PyTorch Hand-written Digit Recognition\", \"space_id\": \"'\"$SPACE_ID\"'\", \"description\": \"PyTorch Hand-written Digit Recognition\", \"tags\": [\"DL\", \"PyTorch\"], \"version\": \"v1\", \"platform\": {\"name\": \"python\", \"versions\": [\"3.7\"]}, \"command\": \"pytorch_v_1.1_mnist_onnx.py --epochs 10 --debug-level debug\"}'\n",
    "echo $MODEL_DEFINITION_PAYLOAD | python -m json.tool"
   ]
  },
  {
   "cell_type": "code",
   "execution_count": 69,
   "metadata": {},
   "outputs": [
    {
     "name": "stdout",
     "output_type": "stream",
     "text": [
      "env: MODEL_DEFINITION_PAYLOAD={\n",
      "    \"name\": \"PyTorch Hand-written Digit Recognition\",\n",
      "    \"space_id\": \"059f6303-90c3-4732-b046-3f4ee43b3362\",\n",
      "    \"description\": \"PyTorch Hand-written Digit Recognition\",\n",
      "    \"tags\": [\n",
      "        \"DL\",\n",
      "        \"PyTorch\"\n",
      "    ],\n",
      "    \"version\": \"v1\",\n",
      "    \"platform\": {\n",
      "        \"name\": \"python\",\n",
      "        \"versions\": [\n",
      "            \"3.7\"\n",
      "        ]\n",
      "    },\n",
      "    \"command\": \"pytorch_v_1.1_mnist_onnx.py --epochs 10 --debug-level debug\"\n",
      "}\n"
     ]
    }
   ],
   "source": [
    "%env MODEL_DEFINITION_PAYLOAD=$model_definition_payload"
   ]
  },
  {
   "cell_type": "code",
   "execution_count": null,
   "metadata": {},
   "outputs": [],
   "source": [
    "%%bash --out model_definition_id\n",
    "\n",
    "curl -sk -X POST \\\n",
    "    --header \"Authorization: Bearer $TOKEN\" \\\n",
    "    --header \"Content-Type: application/json\" \\\n",
    "    --header \"Accept: application/json\" \\\n",
    "    --data \"$MODEL_DEFINITION_PAYLOAD\" \\\n",
    "    \"$DATAPLATFORM_URL/ml/v4/model_definitions?version=2020-08-01\"| grep '\"id\": ' | awk -F '\"' '{ print $4 }'"
   ]
  },
  {
   "cell_type": "code",
   "execution_count": null,
   "metadata": {},
   "outputs": [],
   "source": [
    "%env MODEL_DEFINITION_ID=$model_definition_id"
   ]
  },
  {
   "cell_type": "markdown",
   "metadata": {},
   "source": [
    "<a id=\"model_preparation\"></a>\n",
    "### Model preparation\n",
    "\n",
    "Download files with pytorch code. You can either download it via link below or run the cell below the link."
   ]
  },
  {
   "cell_type": "markdown",
   "metadata": {},
   "source": [
    "<a href=\"https://github.com/IBM/watson-machine-learning-samples/raw/master/cpd/definitions/pytorch/mnist/pytorch-onnx_v1_3.zip\" \n",
    "target=\"_blank\" rel=\"noopener no referrer\">Download pytorch-model.zip</a>"
   ]
  },
  {
   "cell_type": "code",
   "execution_count": null,
   "metadata": {},
   "outputs": [],
   "source": [
    "%%bash\n",
    "\n",
    "wget https://github.com/IBM/watson-machine-learning-samples/raw/master/cpd3.5/definitions/pytorch/mnist/pytorch_onnx_v1_3.zip \\\n",
    "     -O pytorch-onnx_v1_3.zip"
   ]
  },
  {
   "cell_type": "markdown",
   "metadata": {},
   "source": [
    "**Tip**: Convert below cell to code and run it to see model deinition's code."
   ]
  },
  {
   "cell_type": "raw",
   "metadata": {},
   "source": [
    "!unzip -oqd . pytorch-onnx_v1_3.zip && cat pytorch_v_1.1_mnist_onnx.py"
   ]
  },
  {
   "cell_type": "markdown",
   "metadata": {},
   "source": [
    "<a id=\"def_upload\"></a>\n",
    "### Upload model for the model definition"
   ]
  },
  {
   "cell_type": "markdown",
   "metadata": {},
   "source": [
    "<a href=\"https://watson-ml-v4-api.mybluemix.net/wml-restapi-cloud.html#/Model%20Definitions/model_definitions_upload_model\" \n",
    "target=\"_blank\" rel=\"noopener no referrer\">Upload model for the model definition</a>"
   ]
  },
  {
   "cell_type": "code",
   "execution_count": null,
   "metadata": {},
   "outputs": [],
   "source": [
    "%%bash\n",
    "\n",
    "curl -sk -X PUT \\\n",
    "    --header \"Authorization: Bearer $TOKEN\" \\\n",
    "    --header \"Content-Type: application/json\" \\\n",
    "    --header \"Accept: application/json\" \\\n",
    "    --data-binary \"@pytorch-onnx_v1_3.zip\" \\\n",
    "    \"$DATAPLATFORM_URL/ml/v4/model_definitions/$MODEL_DEFINITION_ID/model?version=2020-08-01&space_id=$SPACE_ID\" \\\n",
    "    | python -m json.tool"
   ]
  },
  {
   "cell_type": "markdown",
   "metadata": {},
   "source": [
    "<a id=\"run\"></a>\n",
    "## 3. Experiment run\n",
    "\n",
    "This section provides samples about how to trigger Deep Learning experiment via cURL calls."
   ]
  },
  {
   "cell_type": "markdown",
   "metadata": {},
   "source": [
    "<a href=\"https://watson-ml-v4-api.mybluemix.net/wml-restapi-cloud.html#/Trainings/trainings_create\" \n",
    "target=\"_blank\" rel=\"noopener no referrer\">Schedule a training job for Deep Learning experiment</a>"
   ]
  },
  {
   "cell_type": "markdown",
   "metadata": {},
   "source": [
    "Specify the source files folder where you have stored your training data. The path should point to a local repository on Watson Machine Learning Accelerator that your system administrator has set up for your use.\n",
    "\n",
    "**Action:**\n",
    "Change `training_data_references: location: path: ...`"
   ]
  },
  {
   "cell_type": "code",
   "execution_count": 70,
   "metadata": {},
   "outputs": [],
   "source": [
    "%%bash --out training_payload\n",
    "\n",
    "TRAINING_PAYLOAD='{\"training_data_references\": [{\"name\": \"training_input_data\", \"type\": \"fs\", \"connection\": {}, \"location\": {\"path\": \"pytorch-mnist\"}, \"schema\": {\"id\": \"idmlp_schema\", \"fields\": [{\"name\": \"text\", \"type\": \"string\"}]}}], \"results_reference\": {\"name\": \"MNIST results\", \"connection\": {}, \"location\": {\"path\": \"spaces/'\"$SPACE_ID\"'/assets/experiment\"}, \"type\": \"fs\"}, \"tags\": [{\"value\": \"tags_pytorch\", \"description\": \"Tags PyTorch\"}], \"name\": \"PyTorch hand-written Digit Recognition\", \"description\": \"PyTorch hand-written Digit Recognition\", \"model_definition\": {\"id\": \"'\"$MODEL_DEFINITION_ID\"'\", \"command\": \"pytorch_v_1.1_mnist_onnx.py --epochs 10 --debug-level debug\", \"hardware_spec\": {\"name\": \"K80\", \"nodes\": 1}, \"software_spec\": {\"name\": \"pytorch-onnx_1.3-py3.7\"}, \"parameters\": {\"name\": \"PyTorch_mnist\", \"description\": \"PyTorch mnist recognition\"}}, \"space_id\": \"'\"$SPACE_ID\"'\"}'\n",
    "echo $TRAINING_PAYLOAD | python -m json.tool"
   ]
  },
  {
   "cell_type": "code",
   "execution_count": 71,
   "metadata": {},
   "outputs": [
    {
     "name": "stdout",
     "output_type": "stream",
     "text": [
      "env: TRAINING_PAYLOAD={\n",
      "    \"training_data_references\": [\n",
      "        {\n",
      "            \"name\": \"training_input_data\",\n",
      "            \"type\": \"fs\",\n",
      "            \"connection\": {},\n",
      "            \"location\": {\n",
      "                \"path\": \"pytorch-mnist\"\n",
      "            },\n",
      "            \"schema\": {\n",
      "                \"id\": \"idmlp_schema\",\n",
      "                \"fields\": [\n",
      "                    {\n",
      "                        \"name\": \"text\",\n",
      "                        \"type\": \"string\"\n",
      "                    }\n",
      "                ]\n",
      "            }\n",
      "        }\n",
      "    ],\n",
      "    \"results_reference\": {\n",
      "        \"name\": \"MNIST results\",\n",
      "        \"connection\": {},\n",
      "        \"location\": {\n",
      "            \"path\": \"spaces/059f6303-90c3-4732-b046-3f4ee43b3362/assets/experiment\"\n",
      "        },\n",
      "        \"type\": \"fs\"\n",
      "    },\n",
      "    \"tags\": [\n",
      "        {\n",
      "            \"value\": \"tags_pytorch\",\n",
      "            \"description\": \"Tags PyTorch\"\n",
      "        }\n",
      "    ],\n",
      "    \"name\": \"PyTorch hand-written Digit Recognition\",\n",
      "    \"description\": \"PyTorch hand-written Digit Recognition\",\n",
      "    \"model_definition\": {\n",
      "        \"id\": \"52ff5896-8901-4cf3-8434-6e5b2ee21cb5\",\n",
      "        \"command\": \"pytorch_v_1.1_mnist_onnx.py --epochs 10 --debug-level debug\",\n",
      "        \"hardware_spec\": {\n",
      "            \"name\": \"K80\",\n",
      "            \"nodes\": 1\n",
      "        },\n",
      "        \"software_spec\": {\n",
      "            \"name\": \"pytorch-onnx_1.3-py3.7\"\n",
      "        },\n",
      "        \"parameters\": {\n",
      "            \"name\": \"PyTorch_mnist\",\n",
      "            \"description\": \"PyTorch mnist recognition\"\n",
      "        }\n",
      "    },\n",
      "    \"space_id\": \"059f6303-90c3-4732-b046-3f4ee43b3362\"\n",
      "}\n"
     ]
    }
   ],
   "source": [
    "%env TRAINING_PAYLOAD=$training_payload"
   ]
  },
  {
   "cell_type": "code",
   "execution_count": null,
   "metadata": {},
   "outputs": [],
   "source": [
    "%%bash --out training_id\n",
    "\n",
    "curl -sk -X  POST \\\n",
    "    --header \"Authorization: Bearer $TOKEN\" \\\n",
    "    --header \"Content-Type: application/json\" \\\n",
    "    --header \"Accept: application/json\" \\\n",
    "    --data \"$TRAINING_PAYLOAD\" \\\n",
    "    \"$DATAPLATFORM_URL/ml/v4/trainings?version=2020-08-01\" | awk -F'\"id\":' '{print $2}' | cut -c2-37"
   ]
  },
  {
   "cell_type": "code",
   "execution_count": null,
   "metadata": {},
   "outputs": [],
   "source": [
    "%env TRAINING_ID=$training_id"
   ]
  },
  {
   "cell_type": "markdown",
   "metadata": {},
   "source": [
    "<a id=\"training_details\"></a>\n",
    "### Get training details\n",
    "Treining is an asynchronous endpoint. In case you want to monitor training status and details,\n",
    "you need to use a GET method and specify which training you want to monitor by usage of training ID."
   ]
  },
  {
   "cell_type": "markdown",
   "metadata": {},
   "source": [
    "<a href=\"https://watson-ml-v4-api.mybluemix.net/wml-restapi-cloud.html#/Trainings/trainings_get\" \n",
    "target=\"_blank\" rel=\"noopener no referrer\">Get information about training job</a>"
   ]
  },
  {
   "cell_type": "raw",
   "metadata": {},
   "source": [
    "%%bash\n",
    "\n",
    "curl -sk -X GET \\\n",
    "    --header \"Authorization: Bearer $TOKEN\" \\\n",
    "    --header \"Content-Type: application/json\" \\\n",
    "    --header \"Accept: application/json\" \\\n",
    "    \"$DATAPLATFORM_URL/ml/v4/trainings/$TRAINING_ID?space_id=$SPACE_ID&version=2020-08-01\" \\\n",
    "    | python -m json.tool"
   ]
  },
  {
   "cell_type": "markdown",
   "metadata": {},
   "source": [
    "### Get training status"
   ]
  },
  {
   "cell_type": "code",
   "execution_count": null,
   "metadata": {
    "scrolled": true
   },
   "outputs": [],
   "source": [
    "%%bash\n",
    "\n",
    "STATUS=$(curl -sk -X GET\\\n",
    "    --header \"Authorization: Bearer $TOKEN\" \\\n",
    "    --header \"Content-Type: application/json\" \\\n",
    "    --header \"Accept: application/json\" \\\n",
    "    \"$DATAPLATFORM_URL/ml/v4/trainings/$TRAINING_ID?space_id=$SPACE_ID&version=2020-08-01\")\n",
    "    \n",
    "STATUS=${STATUS#*state\\\":\\\"}\n",
    "STATUS=${STATUS%%\\\"*}\n",
    "echo $STATUS"
   ]
  },
  {
   "cell_type": "markdown",
   "metadata": {},
   "source": [
    "Please make sure that training is completed before you go to the next sections.\n",
    "Monitor `state` of your training by running above cell couple of times."
   ]
  },
  {
   "cell_type": "markdown",
   "metadata": {},
   "source": [
    "<a id=\"runs\"></a>\n",
    "## 4. Historical runs\n",
    "\n",
    "In this section you will see cURL examples describing how to get historical training runs information."
   ]
  },
  {
   "cell_type": "markdown",
   "metadata": {},
   "source": [
    "Output should be similar to the output from training creation but you should see more trainings entries.  \n",
    "Listing trainings:"
   ]
  },
  {
   "cell_type": "markdown",
   "metadata": {},
   "source": [
    "<a href=\"https://watson-ml-v4-api.mybluemix.net/wml-restapi-cloud.html#/Trainings/trainings_list\" \n",
    "target=\"_blank\" rel=\"noopener no referrer\">Get list of historical training jobs information</a>"
   ]
  },
  {
   "cell_type": "code",
   "execution_count": null,
   "metadata": {},
   "outputs": [],
   "source": [
    "%%bash\n",
    "\n",
    "HISTORICAL_TRAINING_LIMIT_TO_GET=2\n",
    "\n",
    "curl -sk -X GET \\\n",
    "    --header \"Authorization: Bearer $TOKEN\" \\\n",
    "    --header \"Content-Type: application/json\" \\\n",
    "    --header \"Accept: application/json\" \\\n",
    "    \"$DATAPLATFORM_URL/ml/v4/trainings?space_id=$SPACE_ID&version=2020-08-01&limit=$HISTORICAL_TRAINING_LIMIT_TO_GET\" \\\n",
    "    | python -m json.tool"
   ]
  },
  {
   "cell_type": "markdown",
   "metadata": {},
   "source": [
    "<a id=\"training_cancel\"></a>\n",
    "### Cancel training run\n",
    "\n",
    "**Tip:** If you want to cancel your training, please convert below cell to `code`, specify training ID and run."
   ]
  },
  {
   "cell_type": "markdown",
   "metadata": {},
   "source": [
    "<a href=\"https://watson-ml-v4-api.mybluemix.net/wml-restapi-cloud.html#/Trainings/trainings_delete\" \n",
    "target=\"_blank\" rel=\"noopener no referrer\">Canceling training</a>"
   ]
  },
  {
   "cell_type": "raw",
   "metadata": {},
   "source": [
    "%%bash\n",
    "\n",
    "TRAINING_ID_TO_CANCEL=...\n",
    "\n",
    "curl -sk -X DELETE \\\n",
    "    --header \"Authorization: Bearer $TOKEN\" \\\n",
    "    --header \"Content-Type: application/json\" \\\n",
    "    --header \"Accept: application/json\" \\\n",
    "    \"$DATAPLATFORM_URL/ml/v4/trainings/$TRAINING_ID_TO_DELETE?space_id=$SPACE_ID&version=2020-08-01\""
   ]
  },
  {
   "cell_type": "markdown",
   "metadata": {},
   "source": [
    "---"
   ]
  },
  {
   "cell_type": "markdown",
   "metadata": {},
   "source": [
    "<a id=\"deploy_and_score\"></a>\n",
    "## 5. Deploy and Score\n",
    "\n",
    "In this section you will learn how to deploy and score pipeline model as webservice using WML instance."
   ]
  },
  {
   "cell_type": "markdown",
   "metadata": {},
   "source": [
    "Before deployment creation, you need store your model in WML repository.\n",
    "Please see below cURL call example how to do it."
   ]
  },
  {
   "cell_type": "markdown",
   "metadata": {},
   "source": [
    "Download `request.json` with repository request json for model storing."
   ]
  },
  {
   "cell_type": "code",
   "execution_count": null,
   "metadata": {},
   "outputs": [],
   "source": [
    "%%bash --out request_json\n",
    "\n",
    "curl -sk -X GET \\\n",
    "    --header \"Authorization: Bearer $TOKEN\" \\\n",
    "    --header \"Content-Type: application/json\" \\\n",
    "    --header \"Accept: application/json\" \\\n",
    "    \"$DATAPLATFORM_URL/v2/asset_files/experiment/$TRAINING_ID/assets/$TRAINING_ID/resources/wml_model/request.json?space_id=$SPACE_ID&version=2020-08-01\" \\\n",
    "    | python -m json.tool"
   ]
  },
  {
   "cell_type": "code",
   "execution_count": null,
   "metadata": {},
   "outputs": [],
   "source": [
    "%env MODEL_PAYLOAD=$request_json"
   ]
  },
  {
   "cell_type": "markdown",
   "metadata": {},
   "source": [
    "<a id=\"model_store\"></a>\n",
    "### Store Deep Learning model\n",
    "\n",
    "Store information about your model to WML repository."
   ]
  },
  {
   "cell_type": "markdown",
   "metadata": {},
   "source": [
    "<a href=\"https://watson-ml-v4-api.mybluemix.net/wml-restapi-cloud.html#/Models/models_create\" \n",
    "target=\"_blank\" rel=\"noopener no referrer\">Model storing</a>"
   ]
  },
  {
   "cell_type": "code",
   "execution_count": null,
   "metadata": {},
   "outputs": [],
   "source": [
    "%%bash --out model_details\n",
    "\n",
    "curl -sk -X POST \\\n",
    "    --header \"Authorization: Bearer $TOKEN\" \\\n",
    "    --header \"Content-Type: application/json\" \\\n",
    "    --header \"Accept: application/json\" \\\n",
    "    --data \"$MODEL_PAYLOAD\" \\\n",
    "    \"$DATAPLATFORM_URL/ml/v4/models?version=2020-08-01&space_id=$SPACE_ID\""
   ]
  },
  {
   "cell_type": "code",
   "execution_count": null,
   "metadata": {},
   "outputs": [],
   "source": [
    "%env MODEL_DETAILS=$model_details"
   ]
  },
  {
   "cell_type": "code",
   "execution_count": null,
   "metadata": {},
   "outputs": [],
   "source": [
    "%%bash --out model_id\n",
    "\n",
    "echo $MODEL_DETAILS | awk -F '\"id\": ' '{ print $5 }' | cut -d '\"' -f 2"
   ]
  },
  {
   "cell_type": "code",
   "execution_count": null,
   "metadata": {},
   "outputs": [],
   "source": [
    "%env MODEL_ID=$model_id"
   ]
  },
  {
   "cell_type": "markdown",
   "metadata": {},
   "source": [
    "<a id=\"deployment_creation\"></a>\n",
    "### Deployment creation\n",
    "\n",
    "An Deep Learning online deployment creation is presented below."
   ]
  },
  {
   "cell_type": "markdown",
   "metadata": {},
   "source": [
    "<a href=\"https://watson-ml-v4-api.mybluemix.net/wml-restapi-cloud.html#/Deployments/deployments_create\" \n",
    "target=\"_blank\" rel=\"noopener no referrer\">Create deployment</a>"
   ]
  },
  {
   "cell_type": "code",
   "execution_count": null,
   "metadata": {},
   "outputs": [],
   "source": [
    "%%bash --out deployment_payload\n",
    "\n",
    "DEPLOYMENT_PAYLOAD='{\"space_id\": \"'\"$SPACE_ID\"'\",\"name\": \"PyTorch Mnist deployment\", \"description\": \"PyTorch model to recognize hand-written digits\",\"online\": {},\"hardware_spec\": {\"name\": \"S\"},\"asset\": {\"id\": \"'\"$MODEL_ID\"'\"}}'\n",
    "echo $DEPLOYMENT_PAYLOAD | python -m json.tool"
   ]
  },
  {
   "cell_type": "code",
   "execution_count": null,
   "metadata": {},
   "outputs": [],
   "source": [
    "%env DEPLOYMENT_PAYLOAD=$deployment_payload"
   ]
  },
  {
   "cell_type": "code",
   "execution_count": null,
   "metadata": {},
   "outputs": [],
   "source": [
    "%%bash\n",
    "\n",
    "curl -sk -X POST \\\n",
    "    --header \"Authorization: Bearer $TOKEN\" \\\n",
    "    --header \"Content-Type: application/json\" \\\n",
    "    --header \"Accept: application/json\" \\\n",
    "    --data \"$DEPLOYMENT_PAYLOAD\" \\\n",
    "    \"$DATAPLATFORM_URL/ml/v4/deployments?version=2020-08-01\""
   ]
  },
  {
   "cell_type": "code",
   "execution_count": null,
   "metadata": {},
   "outputs": [],
   "source": [
    "%%bash --out deployment_id\n",
    "\n",
    "curl -sk -X POST \\\n",
    "    --header \"Authorization: Bearer $TOKEN\" \\\n",
    "    --header \"Content-Type: application/json\" \\\n",
    "    --header \"Accept: application/json\" \\\n",
    "    --data \"$DEPLOYMENT_PAYLOAD\" \\\n",
    "    \"$DATAPLATFORM_URL/ml/v4/deployments?version=2020-08-01\" \\\n",
    "    | grep '\"id\": ' | awk -F '\"' '{ print $4 }' | sed -n 3p"
   ]
  },
  {
   "cell_type": "code",
   "execution_count": null,
   "metadata": {},
   "outputs": [],
   "source": [
    "%env DEPLOYMENT_ID=$deployment_id"
   ]
  },
  {
   "cell_type": "markdown",
   "metadata": {},
   "source": [
    "<a id=\"deployment_details\"></a>\n",
    "### Get deployment details\n",
    "As deployment API is asynchronous, please make sure your deployment is in `ready` state before going to the next points."
   ]
  },
  {
   "cell_type": "markdown",
   "metadata": {},
   "source": [
    "<a href=\"https://watson-ml-v4-api.mybluemix.net/wml-restapi-cloud.html#/Deployments/deployments_get\" \n",
    "target=\"_blank\" rel=\"noopener no referrer\">Get deployment details</a>"
   ]
  },
  {
   "cell_type": "code",
   "execution_count": null,
   "metadata": {},
   "outputs": [],
   "source": [
    "%%bash\n",
    "\n",
    "curl -sk -X GET \\\n",
    "    --header \"Authorization: Bearer $TOKEN\" \\\n",
    "    --header \"Content-Type: application/json\" \\\n",
    "    \"$DATAPLATFORM_URL/ml/v4/deployments/$DEPLOYMENT_ID?space_id=$SPACE_ID&version=2020-08-01\" \\\n",
    "    | python -m json.tool"
   ]
  },
  {
   "cell_type": "markdown",
   "metadata": {},
   "source": [
    "<a id=\"input_score\"></a>\n",
    "### Prepare scoring input data\n",
    "**Hint:** You may need to install numpy using following command `!pip install numpy`"
   ]
  },
  {
   "cell_type": "code",
   "execution_count": null,
   "metadata": {},
   "outputs": [],
   "source": [
    "!wget -q https://github.com/IBM/watson-machine-learning-samples/raw/master/cpd3.5/data/mnist/mnist.npz"
   ]
  },
  {
   "cell_type": "code",
   "execution_count": null,
   "metadata": {},
   "outputs": [],
   "source": [
    "import numpy as np\n",
    "\n",
    "mnist_dataset = np.load('mnist.npz')\n",
    "test_mnist = mnist_dataset['x_test']"
   ]
  },
  {
   "cell_type": "code",
   "execution_count": null,
   "metadata": {},
   "outputs": [],
   "source": [
    "image_1 = [test_mnist[0].tolist()]\n",
    "image_2 = [test_mnist[1].tolist()]"
   ]
  },
  {
   "cell_type": "markdown",
   "metadata": {},
   "source": [
    "<a id=\"webservice_score\"></a>\n",
    "### Scoring of a webservice\n",
    "If you want to make a `score` call on your deployment, please follow a below method:"
   ]
  },
  {
   "cell_type": "markdown",
   "metadata": {},
   "source": [
    "<a href=\"https://watson-ml-v4-api.mybluemix.net/wml-restapi-cloud.html#/Deployment%20Jobs/deployment_jobs_create\" \n",
    "target=\"_blank\" rel=\"noopener no referrer\">Create deployment job</a>"
   ]
  },
  {
   "cell_type": "code",
   "execution_count": null,
   "metadata": {},
   "outputs": [],
   "source": [
    "%%bash -s \"$image_1\" \"$image_2\"\n",
    "\n",
    "curl -sk -X POST \\\n",
    "    --header \"Authorization: Bearer $TOKEN\" \\\n",
    "    --header \"Content-Type: application/json\" \\\n",
    "    --header \"Accept: application/json\" \\\n",
    "    --data '{\"space_id\": \"$SPACE_ID\",\"input_data\": [{\"values\": ['\"$1\"', '\"$2\"']}]}' \\\n",
    "    \"$DATAPLATFORM_URL/ml/v4/deployments/$DEPLOYMENT_ID/predictions?version=2020-08-01\" \\\n",
    "    | python -m json.tool"
   ]
  },
  {
   "cell_type": "markdown",
   "metadata": {},
   "source": [
    "<a id=\"deployments_list\"></a>\n",
    "### Listing all deployments"
   ]
  },
  {
   "cell_type": "markdown",
   "metadata": {},
   "source": [
    "<a href=\"https://watson-ml-v4-api.mybluemix.net/wml-restapi-cloud.html#/Deployments/deployments_list\" \n",
    "target=\"_blank\" rel=\"noopener no referrer\">List deployments details</a>"
   ]
  },
  {
   "cell_type": "code",
   "execution_count": null,
   "metadata": {
    "scrolled": true
   },
   "outputs": [],
   "source": [
    "%%bash\n",
    "\n",
    "curl -sk -X GET \\\n",
    "    --header \"Authorization: Bearer $TOKEN\" \\\n",
    "    --header \"Content-Type: application/json\" \\\n",
    "    \"$DATAPLATFORM_URL/ml/v4/deployments?space_id=$SPACE_ID&version=2020-08-01\" \\\n",
    "    | python -m json.tool"
   ]
  },
  {
   "cell_type": "markdown",
   "metadata": {},
   "source": [
    "<a id=\"cleaning\"></a>\n",
    "## 6. Cleaning section\n",
    "\n",
    "Below section is useful when you want to clean all of your previous work within this notebook.\n",
    "Just convert below cells into the `code` and run them."
   ]
  },
  {
   "cell_type": "markdown",
   "metadata": {},
   "source": [
    "<a id=\"training_delete\"></a>\n",
    "### Delete training run\n",
    "**Tip:** You can completely delete a training run with its metadata."
   ]
  },
  {
   "cell_type": "markdown",
   "metadata": {},
   "source": [
    "<a href=\"https://watson-ml-v4-api.mybluemix.net/wml-restapi-cloud.html#/Trainings/trainings_delete\" \n",
    "target=\"_blank\" rel=\"noopener no referrer\">Deleting training</a>"
   ]
  },
  {
   "cell_type": "raw",
   "metadata": {},
   "source": [
    "%%bash\n",
    "\n",
    "TRAINING_ID_TO_DELETE=...\n",
    "\n",
    "curl -sk -X DELETE \\\n",
    "    --header \"Authorization: Bearer $TOKEN\" \\\n",
    "    --header \"Content-Type: application/json\" \\\n",
    "    --header \"Accept: application/json\" \\\n",
    "    \"$DATAPLATFORM_URL/ml/v4/trainings/$TRAINING_ID_TO_DELETE?space_id=$SPACE_ID&version=2020-08-01&hard_delete=true\""
   ]
  },
  {
   "cell_type": "markdown",
   "metadata": {},
   "source": [
    "<a id=\"deployment_delete\"></a>\n",
    "### Deleting deployment\n",
    "**Tip:** You can delete existing deployment by calling DELETE method."
   ]
  },
  {
   "cell_type": "markdown",
   "metadata": {},
   "source": [
    "<a href=\"https://watson-ml-v4-api.mybluemix.net/wml-restapi-cloud.html#/Deployments/deployments_delete\" \n",
    "target=\"_blank\" rel=\"noopener no referrer\">Delete deployment</a>"
   ]
  },
  {
   "cell_type": "raw",
   "metadata": {},
   "source": [
    "%%bash\n",
    "\n",
    "curl -sk -X DELETE \\\n",
    "    --header \"Authorization: Bearer $TOKEN\" \\\n",
    "    --header \"Content-Type: application/json\" \\\n",
    "    --header \"Accept: application/json\" \\\n",
    "    \"$DATAPLATFORM_URL/ml/v4/deployments/$DEPLOYMENT_ID?space_id=$SPACE_ID&version=2020-08-01\""
   ]
  },
  {
   "cell_type": "markdown",
   "metadata": {},
   "source": [
    "<a id=\"model_delete\"></a>\n",
    "### Delete model from repository\n",
    "**Tip:** If you want to completely remove your stored model and model metadata, just use a DELETE method."
   ]
  },
  {
   "cell_type": "markdown",
   "metadata": {},
   "source": [
    "<a href=\"https://watson-ml-v4-api.mybluemix.net/wml-restapi-cloud.html#/Models/models_delete\" \n",
    "target=\"_blank\" rel=\"noopener no referrer\">Delete model from repository</a>"
   ]
  },
  {
   "cell_type": "raw",
   "metadata": {},
   "source": [
    "%%bash\n",
    "\n",
    "curl -sk -X DELETE \\\n",
    "    --header \"Authorization: Bearer $TOKEN\" \\\n",
    "    --header \"Content-Type: application/json\" \\\n",
    "    \"$DATAPLATFORM_URL/ml/v4/models/$MODEL_ID?space_id=$SPACE_ID&version=2020-08-01\""
   ]
  },
  {
   "cell_type": "markdown",
   "metadata": {},
   "source": [
    "<a id=\"def_delete\"></a>\n",
    "### Delete model definition\n",
    "**Tip:** If you want to completely remove your model definition, just use a DELETE method."
   ]
  },
  {
   "cell_type": "markdown",
   "metadata": {},
   "source": [
    "<a href=\"https://watson-ml-v4-api.mybluemix.net/wml-restapi-cloud.html#/Model%20Definitions/model_definitions_delete\" \n",
    "target=\"_blank\" rel=\"noopener no referrer\">Delete model definition</a>"
   ]
  },
  {
   "cell_type": "raw",
   "metadata": {},
   "source": [
    "%%bash\n",
    "\n",
    "curl -sk -X DELETE \\\n",
    "    --header \"Authorization: Bearer $TOKEN\" \\\n",
    "    --header \"Content-Type: application/json\" \\\n",
    "    \"$DATAPLATFORM_URL/ml/v4/model_definitions/$MODEL_DEFINITION_ID?space_id=$SPACE_ID&version=2020-08-01\""
   ]
  },
  {
   "cell_type": "markdown",
   "metadata": {},
   "source": [
    "<a id=\"summary\"></a>\n",
    "## 7. Summary and next steps\n",
    "\n",
    " You successfully completed this notebook!.\n",
    " \n",
    " You learned how to use `cURL` calls to store, deploy and score a PyTorch Deep Learning model in WML. "
   ]
  },
  {
   "cell_type": "markdown",
   "metadata": {},
   "source": [
    "### Authors\n",
    "\n",
    "**Jan Sołtysik**, Intern in Watson Machine Learning at IBM"
   ]
  },
  {
   "cell_type": "markdown",
   "metadata": {},
   "source": [
    "Copyright © 2020 IBM. This notebook and its source code are released under the terms of the MIT License."
   ]
  }
 ],
 "metadata": {
  "kernelspec": {
   "display_name": "Python 3",
   "language": "python",
   "name": "python3"
  },
  "language_info": {
   "codemirror_mode": {
    "name": "ipython",
    "version": 3
   },
   "file_extension": ".py",
   "mimetype": "text/x-python",
   "name": "python",
   "nbconvert_exporter": "python",
   "pygments_lexer": "ipython3",
   "version": "3.7.9"
  }
 },
 "nbformat": 4,
 "nbformat_minor": 4
}

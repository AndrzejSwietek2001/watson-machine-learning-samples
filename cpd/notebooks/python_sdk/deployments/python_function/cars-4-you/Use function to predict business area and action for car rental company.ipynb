{
 "cells": [
  {
   "cell_type": "markdown",
   "metadata": {},
   "source": [
    "# Use Python function to predict business area and action for car rental company with `ibm-watson-machine-learning`"
   ]
  },
  {
   "cell_type": "markdown",
   "metadata": {},
   "source": [
    "AI function with logic to sequentially call two models: BUSINESS_AREA and ACTION.\n",
    "\n",
    "You will use **car_rental_training** dataset.\n",
    "\n",
    "\n",
    "## Learning goals\n",
    "\n",
    "The learning goals of this notebook are:\n",
    "\n",
    "-  AI function definition\n",
    "-  Store AI function\n",
    "-  Deployment creation\n",
    "\n",
    "\n",
    "## Contents\n",
    "\n",
    "This notebook contains the following parts:\n",
    "1. [Setup](#setup)\n",
    "2. [Define AI function](#ai_function)\n",
    "3. [Store the AI function in the repository](#persistence)\n",
    "4. [Deploy AI function](#deploy)\n",
    "5. [Clean up](#cleanup)\n",
    "6. [Summary](#summary)"
   ]
  },
  {
   "cell_type": "markdown",
   "metadata": {},
   "source": [
    "<a id=\"setup\"></a>\n",
    "## 1. Set up the environment\n",
    "\n",
    "Before you use the sample code in this notebook, you must perform the following setup tasks:\n",
    "\n",
    "-  Contact with your Cloud Pack for Data administrator and ask him for your account credentials"
   ]
  },
  {
   "cell_type": "markdown",
   "metadata": {},
   "source": [
    "### Connection to WML\n",
    "\n",
    "Authenticate the Watson Machine Learning service on IBM Cloud Pack for Data. You need to provide platform `url`, your `username` and `password`."
   ]
  },
  {
   "cell_type": "code",
   "execution_count": null,
   "metadata": {},
   "outputs": [],
   "source": [
    "username = 'PASTE YOUR USERNAME HERE'\n",
    "password = 'PASTE YOUR PASSWORD HERE'\n",
    "url = 'PASTE THE PLATFORM URL HERE'"
   ]
  },
  {
   "cell_type": "code",
   "execution_count": null,
   "metadata": {},
   "outputs": [],
   "source": [
    "wml_credentials = {\n",
    "    \"username\": username,\n",
    "    \"password\": password,\n",
    "    \"url\": url,\n",
    "    \"instance_id\": 'openshift',\n",
    "    \"version\": '3.5'\n",
    "}"
   ]
  },
  {
   "cell_type": "markdown",
   "metadata": {},
   "source": [
    "### Install and import the `ibm-watson-machine-learning` package\n",
    "**Note:** `ibm-watson-machine-learning` documentation can be found <a href=\"http://ibm-wml-api-pyclient.mybluemix.net/\" target=\"_blank\" rel=\"noopener no referrer\">here</a>."
   ]
  },
  {
   "cell_type": "code",
   "execution_count": null,
   "metadata": {},
   "outputs": [],
   "source": [
    "!pip install -U ibm-watson-machine-learning"
   ]
  },
  {
   "cell_type": "code",
   "execution_count": null,
   "metadata": {},
   "outputs": [],
   "source": [
    "from ibm_watson_machine_learning import APIClient\n",
    "\n",
    "client = APIClient(wml_credentials)"
   ]
  },
  {
   "cell_type": "markdown",
   "metadata": {},
   "source": [
    "### Working with spaces\n",
    "\n",
    "First of all, you need to create a space that will be used for your work. If you do not have space already created, you can use `{PLATFORM_URL}/ml-runtime/spaces?context=icp4data` to create one.\n",
    "\n",
    "- Click New Deployment Space\n",
    "- Create an empty space\n",
    "- Go to space `Settings` tab\n",
    "- Copy `space_id` and paste it below\n",
    "\n",
    "**Tip**: You can also use SDK to prepare the space for your work. More information can be found [here](https://github.com/IBM/watson-machine-learning-samples/blob/master/cpd/notebooks/python_sdk/instance-management/Space%20management.ipynb).\n",
    "\n",
    "**Action**: Assign space ID below"
   ]
  },
  {
   "cell_type": "code",
   "execution_count": null,
   "metadata": {},
   "outputs": [],
   "source": [
    "space_id = 'PASTE YOUR SPACE ID HERE'"
   ]
  },
  {
   "cell_type": "markdown",
   "metadata": {},
   "source": [
    "You can use `list` method to print all existing spaces."
   ]
  },
  {
   "cell_type": "code",
   "execution_count": null,
   "metadata": {},
   "outputs": [],
   "source": [
    "client.spaces.list(limit=10)"
   ]
  },
  {
   "cell_type": "markdown",
   "metadata": {},
   "source": [
    "To be able to interact with all resources available in Watson Machine Learning, you need to set **space** which you will be using."
   ]
  },
  {
   "cell_type": "code",
   "execution_count": null,
   "metadata": {},
   "outputs": [],
   "source": [
    "client.set.default_space(space_id)"
   ]
  },
  {
   "cell_type": "markdown",
   "metadata": {},
   "source": [
    "<a id=\"ai_function\"></a>\n",
    "## 2. Define AI function"
   ]
  },
  {
   "cell_type": "markdown",
   "metadata": {},
   "source": [
    "In this section we define AI function and test it locally."
   ]
  },
  {
   "cell_type": "markdown",
   "metadata": {},
   "source": [
    "### Template\n",
    "\n",
    "We start with template version of AI function to present its structure in simplest case."
   ]
  },
  {
   "cell_type": "markdown",
   "metadata": {},
   "source": [
    "    # Template version\n",
    "\n",
    "    def score_template(payload):\n",
    "        \"\"\"AI function example.\n",
    "\n",
    "        # Here we present data schema to be used by function:\n",
    "        Example:\n",
    "        {\n",
    "          \"input_data\":\n",
    "              [{\n",
    "                \"fields\": [\"Gender\", \"Status\", \"Children\", \"Age\", \"Customer_Status\"],\n",
    "                \"values\": [\n",
    "                  [\"Male\", \"M\", 2, 48, \"Inactive\"],\n",
    "                  [\"Female\", \"S\", 0, 23, \"Inactive\"]\n",
    "                ]\n",
    "              }]\n",
    "        }\n",
    "        \"\"\"\n",
    "        fields = payload['input_data'][0]['fields'] + ['Prediction', 'Probability']\n",
    "        values = [record + [int(record[0] == 'Male'), 0.9] for record in payload['input_data'][0]['values']]\n",
    "        return { 'fields': fields, 'values': values }\n",
    "\n",
    "    template_payload = {'input_data': [{\"fields\": [],\n",
    "                        \"values\": [[\"Male\", \"M\", 2, 48, \"Inactive\"], [\"Female\", \"S\", 0, 23, \"Inactive\"]]}]}\n",
    "\n",
    "    print(score_template(template_payload))"
   ]
  },
  {
   "cell_type": "markdown",
   "metadata": {},
   "source": [
    "### Deployed models metadata extraction\n",
    "\n",
    "We have to identify model deployments to be used before we define AI function. We extract scoring url and information about model version."
   ]
  },
  {
   "cell_type": "markdown",
   "metadata": {},
   "source": [
    "We list all deployed models predicting `Action` and `Business Area` to select one to be used in the AI function."
   ]
  },
  {
   "cell_type": "code",
   "execution_count": null,
   "metadata": {},
   "outputs": [],
   "source": [
    "client.deployments.list()"
   ]
  },
  {
   "cell_type": "markdown",
   "metadata": {},
   "source": [
    "We select deployed model to predict `Business Area` and model to recommend `Action`. We have to extract deployments IDs.\n",
    "\n",
    "**Tip**: If you don't have required deployments ready yet, please refer to the following notebooks to prepare them:\n",
    "- TODO: link to business area\n",
    "- TODO: link to action"
   ]
  },
  {
   "cell_type": "code",
   "execution_count": null,
   "metadata": {},
   "outputs": [],
   "source": [
    "deployments = client.deployments.get_details()['resources']\n",
    "\n",
    "for x in deployments:\n",
    "    if (x['entity']['name'] == 'CARS4U - Action Recommendation model deployment'):\n",
    "        action_deployment_id = x['metadata']['id']\n",
    "    if (x['entity']['name'] == 'CARS4U - Business Area Prediction Model deployment'):\n",
    "        business_area_deployment_id = x['metadata']['id']\n",
    "        \n",
    "print(f\"Action deployment id: {action_deployment_id}\")\n",
    "print(f\"Business area deployment id: {business_area_deployment_id}\")"
   ]
  },
  {
   "cell_type": "markdown",
   "metadata": {},
   "source": [
    "### AI function definition\n",
    "\n",
    "We define AI function to be deployed in the IBM Cloud."
   ]
  },
  {
   "cell_type": "markdown",
   "metadata": {},
   "source": [
    "Put all parameters required to define AI function in dictionary."
   ]
  },
  {
   "cell_type": "code",
   "execution_count": null,
   "metadata": {},
   "outputs": [],
   "source": [
    "ai_params = {\"wml_credentials\": wml_credentials, \n",
    "             \"space_id\": space_id,\n",
    "             \"action_deployment_id\": action_deployment_id, \n",
    "             \"business_area_deployment_id\": business_area_deployment_id}"
   ]
  },
  {
   "cell_type": "code",
   "execution_count": null,
   "metadata": {},
   "outputs": [],
   "source": [
    "def score_generator(params=ai_params):\n",
    "    \n",
    "    from ibm_watson_machine_learning import APIClient\n",
    "\n",
    "    wml_credentials = params[\"wml_credentials\"]\n",
    "    space_id = params['space_id']\n",
    "    action_deployment_id = params[\"action_deployment_id\"]\n",
    "    business_area_deployment_id = params[\"business_area_deployment_id\"]\n",
    "\n",
    "    client = APIClient(wml_credentials)\n",
    "    client.set.default_space(space_id)\n",
    "\n",
    "    def score(payload):\n",
    "        \"\"\"AI function with model version.\n",
    "\n",
    "        Example:\n",
    "          {\"fields\": [\"ID\", \"Gender\", \"Status\", \"Children\", \"Age\", \"Customer_Status\", \"Car_Owner\", \"Customer_Service\", \"Satisfaction\"],\n",
    "           \"values\": [[2624, 'Male', 'S', 0, 49.27, 'Active', 'No', \"Good experience with all the rental co.'s I contacted. I Just called with rental dates and received pricing and selected rental co.\", 1]]}\n",
    "        \"\"\"\n",
    "        \n",
    "        fields = payload[\"input_data\"][0]['fields']\n",
    "        \n",
    "        scores_area = client.deployments.score(business_area_deployment_id, payload).get('predictions', [])\n",
    "        idx_area = [i for i, x in enumerate(scores_area[0][\"fields\"]) if (x == 'probability') or (x == 'predictedLabel')]\n",
    "\n",
    "        fields_from_action = fields + [\"predictedLabel\"]\n",
    "        \n",
    "        idx_from_action = set([i for i, x in enumerate(scores_area[0][\"fields\"]) if x in fields_from_action])\n",
    "        values_action = [[v for i, v in enumerate(rec) if i in idx_from_action] for rec in scores_area[0][\"values\"]]\n",
    "        \n",
    "        payload_action = {\n",
    "            \"input_data\": [\n",
    "                {\n",
    "                    \"fields\": fields + [\"Business_Area\"], \n",
    "                    \"values\": values_action\n",
    "                }\n",
    "            ]\n",
    "        }\n",
    "        \n",
    "        scores_action = client.deployments.score(action_deployment_id, payload_action).get('predictions', [])\n",
    "        idx_action = [i for i, x in enumerate(scores_action[0][\"fields\"]) if (x == 'probability') or (x == 'predictedLabel')]\n",
    "\n",
    "        values = [rec + [scores_area[0]['values'][i][idx_area[0]], scores_area[0]['values'][i][idx_area[1]], scores_action[0]['values'][i][idx_action[0]], scores_action[0]['values'][i][idx_action[1]]] for i, rec in enumerate(payload[\"input_data\"][0]['values'])]\n",
    "\n",
    "        fields = fields + ['Probability_Area', 'Prediction_Area'] + ['Probability_Action', 'Prediction_Action']\n",
    "\n",
    "        return {'predictions': [{'fields': fields, 'values': values}]}\n",
    "\n",
    "    return score"
   ]
  },
  {
   "cell_type": "markdown",
   "metadata": {},
   "source": [
    "### AI function local test\n",
    "\n",
    "Let's test defined AI function in notebook before we deploy it in the IBM Cloud. We start with preparing sample payload for `score` function."
   ]
  },
  {
   "cell_type": "code",
   "execution_count": null,
   "metadata": {},
   "outputs": [],
   "source": [
    "sample_payload = {\n",
    "    \"input_data\": [\n",
    "        {\n",
    "            \"fields\": [\"ID\", \"Gender\", \"Status\", \"Children\", \"Age\", \"Customer_Status\", \"Car_Owner\", \"Customer_Service\", \"Satisfaction\"],\n",
    "            \"values\": [[2624, 'Male', 'S', 0, 49.27, 'Active', 'No', \"Good experience with all the rental co.'s I contacted. I Just called with rental dates and received pricing and selected rental co.\", 1]]\n",
    "        }       \n",
    "    ]\n",
    "}"
   ]
  },
  {
   "cell_type": "markdown",
   "metadata": {},
   "source": [
    "Let's test AI function locally before we deploy it to the IBM Cloud."
   ]
  },
  {
   "cell_type": "code",
   "execution_count": null,
   "metadata": {},
   "outputs": [],
   "source": [
    "score = score_generator()\n",
    "scores_ai = score(sample_payload)\n",
    "print(scores_ai)"
   ]
  },
  {
   "cell_type": "markdown",
   "metadata": {},
   "source": [
    "<a id=\"persistence\"></a>\n",
    "## 3. Store the AI function in the repository"
   ]
  },
  {
   "cell_type": "markdown",
   "metadata": {},
   "source": [
    "In this section we store AI function to Watson machine Learning repository."
   ]
  },
  {
   "cell_type": "markdown",
   "metadata": {},
   "source": [
    "Required prerequisite to store AI function."
   ]
  },
  {
   "cell_type": "code",
   "execution_count": null,
   "metadata": {},
   "outputs": [],
   "source": [
    "function_meta_props = {\n",
    "            client.repository.FunctionMetaNames.NAME: 'CARS4U - Business area and Action Prediction - AI Function',\n",
    "            client.repository.FunctionMetaNames.SOFTWARE_SPEC_ID: client.software_specifications.get_id_by_name(\"ai-function_0.1-py3.6\")\n",
    "}"
   ]
  },
  {
   "cell_type": "code",
   "execution_count": null,
   "metadata": {},
   "outputs": [],
   "source": [
    "function_details = client.repository.store_function(score_generator, function_meta_props)"
   ]
  },
  {
   "cell_type": "code",
   "execution_count": null,
   "metadata": {},
   "outputs": [],
   "source": [
    "published_function_id = client.repository.get_function_id(function_details)\n",
    "\n",
    "print(\"Function Id: \" + str(published_function_id))"
   ]
  },
  {
   "cell_type": "code",
   "execution_count": null,
   "metadata": {},
   "outputs": [],
   "source": [
    "client.repository.get_function_details(published_function_id)"
   ]
  },
  {
   "cell_type": "markdown",
   "metadata": {},
   "source": [
    "<a id=\"deploy\"></a>\n",
    "## 4. Deploy AI function"
   ]
  },
  {
   "cell_type": "markdown",
   "metadata": {},
   "source": [
    "In this section we deploy AI function in the IBM Cloud and test created deployment using sample payload."
   ]
  },
  {
   "cell_type": "code",
   "execution_count": null,
   "metadata": {},
   "outputs": [],
   "source": [
    "client.deployments.list()"
   ]
  },
  {
   "cell_type": "code",
   "execution_count": null,
   "metadata": {
    "scrolled": true
   },
   "outputs": [],
   "source": [
    "deployment_details = client.deployments.create(\n",
    "    published_function_id, \n",
    "    meta_props={\n",
    "        client.deployments.ConfigurationMetaNames.NAME: \"CARS4U - Business area and Action Prediction - AI Function Deployment\",\n",
    "        client.deployments.ConfigurationMetaNames.ONLINE: {}\n",
    "    }\n",
    ")"
   ]
  },
  {
   "cell_type": "markdown",
   "metadata": {},
   "source": [
    "### AI function online deployment test\n",
    "\n",
    "Now we are ready to test created deployment."
   ]
  },
  {
   "cell_type": "code",
   "execution_count": null,
   "metadata": {},
   "outputs": [],
   "source": [
    "fields = ['ID', 'Gender', 'Status', 'Children', 'Age', 'Customer_Status','Car_Owner', 'Customer_Service', 'Satisfaction']\n",
    "values = [3785, 'Male', 'S', 1, 17, 'Inactive', 'Yes', 'The car should have been brought to us instead of us trying to find it in the lot.', 0]"
   ]
  },
  {
   "cell_type": "code",
   "execution_count": null,
   "metadata": {
    "scrolled": true
   },
   "outputs": [],
   "source": [
    "import json\n",
    "\n",
    "payload_scoring = {\"input_data\": [{\"fields\": fields,\"values\": [values]}]}\n",
    "scoring_response = client.deployments.score(deployment_details['metadata']['id'], payload_scoring)\n",
    "\n",
    "print(json.dumps(scoring_response, indent=3))"
   ]
  },
  {
   "cell_type": "markdown",
   "metadata": {},
   "source": [
    "<a id=\"cleanup\"></a>\n",
    "## 5. Clean up "
   ]
  },
  {
   "cell_type": "markdown",
   "metadata": {},
   "source": [
    "If you want to clean up all created assets:\n",
    "- experiments\n",
    "- trainings\n",
    "- pipelines\n",
    "- model definitions\n",
    "- models\n",
    "- functions\n",
    "- deployments\n",
    "\n",
    "please follow up this sample [notebook](https://github.com/IBM/watson-machine-learning-samples/blob/master/cpd/notebooks/python_sdk/instance-management/Machine%20Learning%20artifacts%20management.ipynb)."
   ]
  },
  {
   "cell_type": "markdown",
   "metadata": {},
   "source": [
    "<a id=\"summary\"></a>\n",
    "## 6. Summary and next steps     "
   ]
  },
  {
   "cell_type": "markdown",
   "metadata": {},
   "source": [
    " You successfully completed this notebook! You learned how to use Apache Spark machine learning as well as Watson Machine Learning for model creation and deployment. \n",
    " \n",
    "Check out our [Online Documentation](https://dataplatform.cloud.ibm.com/docs/content/analyze-data/wml-setup.html) for more samples, tutorials, documentation, how-tos, and blog posts. "
   ]
  },
  {
   "cell_type": "markdown",
   "metadata": {},
   "source": [
    "### Authors\n",
    "\n",
    "**Amadeusz Masny**, Python Software Developer in Watson Machine Learning at IBM"
   ]
  },
  {
   "cell_type": "markdown",
   "metadata": {},
   "source": [
    "Copyright © 2020 IBM. This notebook and its source code are released under the terms of the MIT License."
   ]
  }
 ],
 "metadata": {
  "kernelspec": {
   "display_name": "Python 3",
   "language": "python",
   "name": "python3"
  },
  "language_info": {
   "codemirror_mode": {
    "name": "ipython",
    "version": 3
   },
   "file_extension": ".py",
   "mimetype": "text/x-python",
   "name": "python",
   "nbconvert_exporter": "python",
   "pygments_lexer": "ipython3",
   "version": "3.7.9"
  }
 },
 "nbformat": 4,
 "nbformat_minor": 4
}
